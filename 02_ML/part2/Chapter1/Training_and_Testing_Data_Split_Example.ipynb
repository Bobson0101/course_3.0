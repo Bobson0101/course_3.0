{
  "cells": [
    {
      "cell_type": "markdown",
      "source": [
        "[![Open In Colab](https://colab.research.google.com/assets/colab-badge.svg)](https://colab.research.google.com/github/hodawang/course_3.0/blob/main/02_ML/part2/Chapter1/Training_and_Testing_Data_Split_Example.ipynb)"
      ],
      "metadata": {
        "id": "5ZnaHFfgeN9v"
      }
    },
    {
      "cell_type": "markdown",
      "metadata": {
        "id": "1IvHXR-dp7CL"
      },
      "source": [
        "# Import Library"
      ]
    },
    {
      "cell_type": "code",
      "execution_count": null,
      "metadata": {
        "id": "qKazd_q3p7CL"
      },
      "outputs": [],
      "source": [
        "from sklearn.model_selection import train_test_split\n",
        "import numpy as np"
      ]
    },
    {
      "cell_type": "code",
      "source": [
        "from sklearn.model_selection import train_test_split\n",
        "import numpy as np\n",
        "X, y = np.arange(50).reshape(10, 5), np.arange(10)\n",
        "print('X:',X)\n",
        "print('y:',y)"
      ],
      "metadata": {
        "id": "9MQ6pjXmp91S",
        "outputId": "5f4cc8d2-f94b-48ac-8be3-f3e3714edff0",
        "colab": {
          "base_uri": "https://localhost:8080/"
        }
      },
      "execution_count": 8,
      "outputs": [
        {
          "output_type": "stream",
          "name": "stdout",
          "text": [
            "X: [[ 0  1  2  3  4]\n",
            " [ 5  6  7  8  9]\n",
            " [10 11 12 13 14]\n",
            " [15 16 17 18 19]\n",
            " [20 21 22 23 24]\n",
            " [25 26 27 28 29]\n",
            " [30 31 32 33 34]\n",
            " [35 36 37 38 39]\n",
            " [40 41 42 43 44]\n",
            " [45 46 47 48 49]]\n",
            "y: [0 1 2 3 4 5 6 7 8 9]\n"
          ]
        }
      ]
    },
    {
      "cell_type": "markdown",
      "metadata": {
        "id": "7RU9Pe4ep7CM"
      },
      "source": [
        "# Create dataset"
      ]
    },
    {
      "cell_type": "code",
      "execution_count": 22,
      "metadata": {
        "id": "5EpdtnpEp7CM"
      },
      "outputs": [],
      "source": [
        "X, y = np.arange(50).reshape(10, 5), np.arange(10)  #第一個維度必需一樣，否則無法分割"
      ]
    },
    {
      "cell_type": "code",
      "execution_count": null,
      "metadata": {
        "id": "SdjyA7lqp7CN"
      },
      "outputs": [],
      "source": [
        "print('X: shape' + str(X.shape))\n",
        "print(X)\n",
        "print('y: shape' + str(y.shape))\n",
        "print(y)"
      ]
    },
    {
      "cell_type": "markdown",
      "metadata": {
        "id": "1cs3sSBpp7CN"
      },
      "source": [
        "# Training & Testing Data Split"
      ]
    },
    {
      "cell_type": "code",
      "execution_count": null,
      "metadata": {
        "id": "LLR-Lfscp7CN"
      },
      "outputs": [],
      "source": [
        "# trying to tune shuffle and random_state\n",
        "X_train, X_test, y_train, y_test = train_test_split(X,\n",
        "      y,\n",
        "      test_size=0.33,\n",
        "      random_state=42,\n",
        "      shuffle=False)"
      ]
    },
    {
      "cell_type": "code",
      "execution_count": null,
      "metadata": {
        "id": "vAp3OhVsp7CO"
      },
      "outputs": [],
      "source": [
        "X_train"
      ]
    },
    {
      "cell_type": "code",
      "execution_count": null,
      "metadata": {
        "id": "fUZfWsW3p7CO"
      },
      "outputs": [],
      "source": [
        "y_train"
      ]
    },
    {
      "cell_type": "code",
      "source": [
        "x_train, x_test, y_train, y_test = train_test_split(\n",
        "      X, y,\n",
        "      test_size=0.2111,\n",
        "      random_state = 10,\n",
        "      shuffle=True)\n",
        "print('----- Org ------')\n",
        "print(X, y)\n",
        "print('----- x ------')\n",
        "print(x_train.shape)\n",
        "print(x_train)\n",
        "print(x_test)\n",
        "print('------ y ------')\n",
        "print(y_train.shape)\n",
        "print(y_train)\n",
        "print(y_test)"
      ],
      "metadata": {
        "id": "7P-6XebbqzuA",
        "outputId": "28341d87-f30b-489d-f47a-d25b3f1d8901",
        "colab": {
          "base_uri": "https://localhost:8080/"
        }
      },
      "execution_count": 23,
      "outputs": [
        {
          "output_type": "stream",
          "name": "stdout",
          "text": [
            "----- Org ------\n",
            "[[ 0  1  2  3  4]\n",
            " [ 5  6  7  8  9]\n",
            " [10 11 12 13 14]\n",
            " [15 16 17 18 19]\n",
            " [20 21 22 23 24]\n",
            " [25 26 27 28 29]\n",
            " [30 31 32 33 34]\n",
            " [35 36 37 38 39]\n",
            " [40 41 42 43 44]\n",
            " [45 46 47 48 49]] [0 1 2 3 4 5 6 7 8 9]\n",
            "----- x ------\n",
            "(7, 5)\n",
            "[[30 31 32 33 34]\n",
            " [15 16 17 18 19]\n",
            " [ 5  6  7  8  9]\n",
            " [ 0  1  2  3  4]\n",
            " [35 36 37 38 39]\n",
            " [20 21 22 23 24]\n",
            " [45 46 47 48 49]]\n",
            "[[40 41 42 43 44]\n",
            " [10 11 12 13 14]\n",
            " [25 26 27 28 29]]\n",
            "------ y ------\n",
            "(7,)\n",
            "[6 3 1 0 7 4 9]\n",
            "[8 2 5]\n"
          ]
        }
      ]
    }
  ],
  "metadata": {
    "kernelspec": {
      "display_name": "Python 3 (ipykernel)",
      "language": "python",
      "name": "python3"
    },
    "language_info": {
      "codemirror_mode": {
        "name": "ipython",
        "version": 3
      },
      "file_extension": ".py",
      "mimetype": "text/x-python",
      "name": "python",
      "nbconvert_exporter": "python",
      "pygments_lexer": "ipython3",
      "version": "3.10.2"
    },
    "toc": {
      "base_numbering": 1,
      "nav_menu": {},
      "number_sections": true,
      "sideBar": true,
      "skip_h1_title": false,
      "title_cell": "Table of Contents",
      "title_sidebar": "Contents",
      "toc_cell": false,
      "toc_position": {},
      "toc_section_display": true,
      "toc_window_display": false
    },
    "colab": {
      "provenance": []
    }
  },
  "nbformat": 4,
  "nbformat_minor": 0
}