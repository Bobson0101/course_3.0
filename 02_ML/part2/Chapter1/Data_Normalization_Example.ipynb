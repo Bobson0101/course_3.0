{
  "cells": [
    {
      "cell_type": "markdown",
      "source": [
        "[![Open In Colab](https://colab.research.google.com/assets/colab-badge.svg)](https://colab.research.google.com/github/hodawang/course_3.0/blob/main/02_ML/part2/Chapter1/Data_Normalization_Example.ipynb)"
      ],
      "metadata": {
        "id": "5ZnaHFfgeN9v"
      }
    },
    {
      "cell_type": "code",
      "source": [
        "# practice\n",
        "from sklearn import preprocessing\n",
        "import numpy as np"
      ],
      "metadata": {
        "id": "MDGaBWjP0G66"
      },
      "execution_count": 3,
      "outputs": []
    },
    {
      "cell_type": "code",
      "execution_count": null,
      "metadata": {
        "id": "5YUF-HgheLpb"
      },
      "outputs": [],
      "source": [
        "from sklearn import preprocessing\n",
        "import numpy as np"
      ]
    },
    {
      "cell_type": "code",
      "source": [
        "a = np.array([[10,3,4,20], \n",
        "        [-123, 3, 20, 5],\n",
        "        [120,20,30,60]],\n",
        "        dtype = np.float64\n",
        "      )\n",
        "a"
      ],
      "metadata": {
        "id": "6qZQ7qH-0ure",
        "outputId": "40db8041-fd03-40ce-ea6f-10a200fe444a",
        "colab": {
          "base_uri": "https://localhost:8080/"
        }
      },
      "execution_count": 15,
      "outputs": [
        {
          "output_type": "execute_result",
          "data": {
            "text/plain": [
              "array([[  10.,    3.,    4.,   20.],\n",
              "       [-123.,    3.,   20.,    5.],\n",
              "       [ 120.,   20.,   30.,   60.]])"
            ]
          },
          "metadata": {},
          "execution_count": 15
        }
      ]
    },
    {
      "cell_type": "code",
      "execution_count": 20,
      "metadata": {
        "id": "_EOwylqheLpc",
        "outputId": "b240af85-aa9c-4f58-bd2b-edba10724dbf",
        "colab": {
          "base_uri": "https://localhost:8080/"
        }
      },
      "outputs": [
        {
          "output_type": "stream",
          "name": "stdout",
          "text": [
            "[[  10.     2.7    3.6    5. ]\n",
            " [-100.     5.    -2.    10. ]\n",
            " [ 120.    20.    40.    50. ]]\n"
          ]
        }
      ],
      "source": [
        "a = np.array([[10, 2.7, 3.6, 5], [-100, 5, -2, 10], [120, 20, 40, 50]],\n",
        "             dtype=np.float64)\n",
        "print(a)"
      ]
    },
    {
      "cell_type": "code",
      "source": [
        "print(a)\n",
        "scale_a = preprocessing.scale(a, axis=0)\n",
        "print(scale_a)\n",
        "scale_a = preprocessing.scale(a, axis=1)\n",
        "print(scale_a)\n",
        "\n",
        "minmax_range=(0, 1)\n",
        "              \n",
        "scale_a = preprocessing.minmax_scale(a, axis=1, feature_range=minmax_range)\n",
        "print(scale_a)"
      ],
      "metadata": {
        "id": "Ur30DI522aL_",
        "outputId": "ac5a35f9-1d40-49f6-e2d0-e73466d99b79",
        "colab": {
          "base_uri": "https://localhost:8080/"
        }
      },
      "execution_count": 19,
      "outputs": [
        {
          "output_type": "stream",
          "name": "stdout",
          "text": [
            "[[  10.    3.    4.   20.]\n",
            " [-123.    3.   20.    5.]\n",
            " [ 120.   20.   30.   60.]]\n",
            "[[ 0.07716644 -0.70710678 -1.30740289 -0.35897908]\n",
            " [-1.2615035  -0.70710678  0.18677184 -1.00514142]\n",
            " [ 1.18433706  1.41421356  1.12063105  1.3641205 ]]\n",
            "[[ 0.11095901 -0.9246584  -0.77671306  1.59041245]\n",
            " [-1.72077668  0.46378616  0.75852876  0.49846176]\n",
            " [ 1.60375075 -0.96225045 -0.70565033  0.06415003]]\n",
            "[[0.41176471 0.         0.05882353 1.        ]\n",
            " [0.         0.88111888 1.         0.8951049 ]\n",
            " [1.         0.         0.1        0.4       ]]\n"
          ]
        }
      ]
    },
    {
      "cell_type": "code",
      "execution_count": 21,
      "metadata": {
        "id": "z_jhF6HHeLpc"
      },
      "outputs": [],
      "source": [
        "def normalize(x, axis, method, minmax_range=(0, 1)):\n",
        "    if method == 'z-score':\n",
        "        scale_a = preprocessing.scale(x, axis=axis)\n",
        "    elif method == 'minmax':\n",
        "        scale_a = preprocessing.minmax_scale(\n",
        "            x, axis=axis,\n",
        "            feature_range=minmax_range)  # default feature range 0~1\n",
        "    return scale_a"
      ]
    },
    {
      "cell_type": "markdown",
      "metadata": {
        "id": "ktUhmPTfeLpd"
      },
      "source": [
        "# Z-Score"
      ]
    },
    {
      "cell_type": "code",
      "execution_count": 23,
      "metadata": {
        "id": "2EXwwh3_eLpd",
        "outputId": "4d2eb4de-f078-481b-9ee0-5bf5fc46b818",
        "colab": {
          "base_uri": "https://localhost:8080/"
        }
      },
      "outputs": [
        {
          "output_type": "stream",
          "name": "stdout",
          "text": [
            "[[ 1.65733517 -0.93058927 -0.61153009 -0.11521581]\n",
            " [-1.72439359  0.58948918  0.43523033  0.69967408]\n",
            " [ 1.65930828 -0.99558497 -0.46460632 -0.19911699]]\n"
          ]
        }
      ],
      "source": [
        "# 改變axis，看看結果如何變化\n",
        "axis = 1\n",
        "scale_a = normalize(a, axis, method='z-score')\n",
        "print(scale_a)"
      ]
    },
    {
      "cell_type": "code",
      "execution_count": null,
      "metadata": {
        "id": "XDa4nayseLpe"
      },
      "outputs": [],
      "source": [
        "print(scale_a.std(axis=axis))\n",
        "print(scale_a.mean(axis=axis))"
      ]
    },
    {
      "cell_type": "markdown",
      "metadata": {
        "id": "GX7WA4l1eLpe"
      },
      "source": [
        "# Maxmin Scale"
      ]
    },
    {
      "cell_type": "code",
      "execution_count": 29,
      "metadata": {
        "id": "qztqhlxteLpe",
        "outputId": "ad61ed10-5236-4cec-88dc-824e217859dc",
        "colab": {
          "base_uri": "https://localhost:8080/"
        }
      },
      "outputs": [
        {
          "output_type": "stream",
          "name": "stdout",
          "text": [
            "[[0.5        0.         0.13333333 0.        ]\n",
            " [0.         0.13294798 0.         0.11111111]\n",
            " [1.         1.         1.         1.        ]]\n"
          ]
        }
      ],
      "source": [
        "# 改變axis，看看結果如何變化\n",
        "axis = 0\n",
        "# 改變minmax_range看看結果如何變化\n",
        "scale_a = normalize(a, axis, method='minmax', minmax_range=(0, 1))\n",
        "print(scale_a)"
      ]
    },
    {
      "cell_type": "code",
      "execution_count": 30,
      "metadata": {
        "id": "7b5jNNfxeLpe",
        "outputId": "d62be2f1-516c-4c1c-ae5e-947da6530b31",
        "colab": {
          "base_uri": "https://localhost:8080/"
        }
      },
      "outputs": [
        {
          "output_type": "stream",
          "name": "stdout",
          "text": [
            "[1. 1. 1. 1.]\n",
            "[0. 0. 0. 0.]\n"
          ]
        }
      ],
      "source": [
        "print(scale_a.max(axis=axis))\n",
        "print(scale_a.min(axis=axis))"
      ]
    },
    {
      "cell_type": "code",
      "execution_count": 24,
      "metadata": {
        "id": "rc038XnVeLpe"
      },
      "outputs": [],
      "source": []
    }
  ],
  "metadata": {
    "kernelspec": {
      "display_name": "Python 3 (ipykernel)",
      "language": "python",
      "name": "python3"
    },
    "language_info": {
      "codemirror_mode": {
        "name": "ipython",
        "version": 3
      },
      "file_extension": ".py",
      "mimetype": "text/x-python",
      "name": "python",
      "nbconvert_exporter": "python",
      "pygments_lexer": "ipython3",
      "version": "3.10.2"
    },
    "toc": {
      "base_numbering": 1,
      "nav_menu": {},
      "number_sections": true,
      "sideBar": true,
      "skip_h1_title": false,
      "title_cell": "Table of Contents",
      "title_sidebar": "Contents",
      "toc_cell": false,
      "toc_position": {},
      "toc_section_display": true,
      "toc_window_display": false
    },
    "colab": {
      "provenance": []
    }
  },
  "nbformat": 4,
  "nbformat_minor": 0
}