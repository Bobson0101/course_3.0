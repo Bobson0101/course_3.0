{
  "cells": [
    {
      "cell_type": "markdown",
      "source": [
        "[![Open In Colab](https://colab.research.google.com/assets/colab-badge.svg)](https://colab.research.google.com/github/hodawang/course_3.0/blob/main/02_ML/part2/Chapter1/Load_dataset_from_Scikit_Learn_Example.ipynb)"
      ],
      "metadata": {
        "id": "5ZnaHFfgeN9v"
      }
    },
    {
      "cell_type": "code",
      "execution_count": null,
      "metadata": {
        "id": "5YUF-HgheLpb"
      },
      "outputs": [],
      "source": [
        "from sklearn import preprocessing\n",
        "import numpy as np"
      ]
    },
    {
      "cell_type": "code",
      "execution_count": null,
      "metadata": {
        "id": "_EOwylqheLpc"
      },
      "outputs": [],
      "source": [
        "a = np.array([[10, 2.7, 3.6, 5], [-100, 5, -2, 10], [120, 20, 40, 50]],\n",
        "             dtype=np.float64)\n",
        "print(a)"
      ]
    },
    {
      "cell_type": "code",
      "execution_count": null,
      "metadata": {
        "id": "z_jhF6HHeLpc"
      },
      "outputs": [],
      "source": [
        "def normalize(x, axis, method, minmax_range=(0, 1)):\n",
        "    if method == 'z-score':\n",
        "        scale_a = preprocessing.scale(x, axis=axis)\n",
        "    elif method == 'minmax':\n",
        "        scale_a = preprocessing.minmax_scale(\n",
        "            x, axis=axis,\n",
        "            feature_range=minmax_range)  # default feature range 0~1\n",
        "    return scale_a"
      ]
    },
    {
      "cell_type": "markdown",
      "metadata": {
        "id": "ktUhmPTfeLpd"
      },
      "source": [
        "# Z-Score"
      ]
    },
    {
      "cell_type": "code",
      "execution_count": null,
      "metadata": {
        "id": "2EXwwh3_eLpd"
      },
      "outputs": [],
      "source": [
        "# 改變axis，看看結果如何變化\n",
        "axis = 0\n",
        "scale_a = normalize(a, axis, method='z-score')\n",
        "print(scale_a)"
      ]
    },
    {
      "cell_type": "code",
      "execution_count": null,
      "metadata": {
        "id": "XDa4nayseLpe"
      },
      "outputs": [],
      "source": [
        "print(scale_a.std(axis=axis))\n",
        "print(scale_a.mean(axis=axis))"
      ]
    },
    {
      "cell_type": "markdown",
      "metadata": {
        "id": "GX7WA4l1eLpe"
      },
      "source": [
        "# Maxmin Scale"
      ]
    },
    {
      "cell_type": "code",
      "execution_count": null,
      "metadata": {
        "id": "qztqhlxteLpe"
      },
      "outputs": [],
      "source": [
        "# 改變axis，看看結果如何變化\n",
        "axis = 0\n",
        "# 改變minmax_range看看結果如何變化\n",
        "scale_a = normalize(a, axis, method='minmax', minmax_range=(0, 1))\n",
        "print(scale_a)"
      ]
    },
    {
      "cell_type": "code",
      "execution_count": null,
      "metadata": {
        "id": "7b5jNNfxeLpe"
      },
      "outputs": [],
      "source": [
        "print(scale_a.max(axis=axis))\n",
        "print(scale_a.min(axis=axis))"
      ]
    },
    {
      "cell_type": "code",
      "execution_count": null,
      "metadata": {
        "id": "rc038XnVeLpe"
      },
      "outputs": [],
      "source": []
    }
  ],
  "metadata": {
    "kernelspec": {
      "display_name": "Python 3 (ipykernel)",
      "language": "python",
      "name": "python3"
    },
    "language_info": {
      "codemirror_mode": {
        "name": "ipython",
        "version": 3
      },
      "file_extension": ".py",
      "mimetype": "text/x-python",
      "name": "python",
      "nbconvert_exporter": "python",
      "pygments_lexer": "ipython3",
      "version": "3.10.2"
    },
    "toc": {
      "base_numbering": 1,
      "nav_menu": {},
      "number_sections": true,
      "sideBar": true,
      "skip_h1_title": false,
      "title_cell": "Table of Contents",
      "title_sidebar": "Contents",
      "toc_cell": false,
      "toc_position": {},
      "toc_section_display": true,
      "toc_window_display": false
    },
    "colab": {
      "provenance": []
    }
  },
  "nbformat": 4,
  "nbformat_minor": 0
}