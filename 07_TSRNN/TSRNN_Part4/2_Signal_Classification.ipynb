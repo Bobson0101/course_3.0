{
  "nbformat": 4,
  "nbformat_minor": 0,
  "metadata": {
    "colab": {
      "provenance": []
    },
    "kernelspec": {
      "name": "python3",
      "display_name": "Python 3"
    },
    "language_info": {
      "name": "python"
    }
  },
  "cells": [
    {
      "cell_type": "markdown",
      "source": [
        "# Signal Classification"
      ],
      "metadata": {
        "id": "82dhsvRUKofa"
      }
    },
    {
      "cell_type": "markdown",
      "source": [
        "訊號與圖的分類一樣，在preprocess後可使用神經網路做一些AI任務，例如訊號分類、迴歸還有生成等等。\n",
        "\n",
        "這個部分我們用音訊作為訊號的範例，來試著將聲音訊號做分類，包含以下部分:\n",
        "- Audio Data Loader\n",
        "- RNN audio classification\n",
        "- CNN audio classification"
      ],
      "metadata": {
        "id": "5mo7TK6mKrry"
      }
    },
    {
      "cell_type": "markdown",
      "source": [
        "開始之前我們先準備一些內容。\n",
        "\n",
        "我們使用的範例資料集是tensorflow提供的[Mini Speech Commands](https://ai.googleblog.com/2017/08/launching-speech-commands-dataset.html)資料集，從官網下載。"
      ],
      "metadata": {
        "id": "R-B1OWAKMDtL"
      }
    },
    {
      "cell_type": "code",
      "execution_count": null,
      "metadata": {
        "id": "jTGJO2yTGgQ_"
      },
      "outputs": [],
      "source": [
        "!wget http://storage.googleapis.com/download.tensorflow.org/data/mini_speech_commands.zip\n",
        "!unzip mini_speech_commands.zip"
      ]
    },
    {
      "cell_type": "code",
      "source": [
        "import librosa\n",
        "import IPython.display as idp # 播音工具\n",
        "import librosa.display as ldp # 畫頻譜圖工具\n",
        "import numpy as np # 輔助運算\n",
        "import matplotlib.pyplot as plt # 輔助畫圖\n",
        "\n",
        "# import model用到的內容\n",
        "import tensorflow as tf\n",
        "from tensorflow.keras import layers\n",
        "from tensorflow.keras import models"
      ],
      "metadata": {
        "id": "g1m6erWYMR6M"
      },
      "execution_count": 2,
      "outputs": []
    },
    {
      "cell_type": "markdown",
      "source": [
        "## Audio Data Loader"
      ],
      "metadata": {
        "id": "jo_9jVjhRVfL"
      }
    },
    {
      "cell_type": "markdown",
      "source": [
        "與前面CNN相同，需要有data loader去對資料做讀取，而tensorflow沒有原生讀音訊的data loader (TF 2.11有，但在Colab上要另外灌TF2.11)，所以這部分要自己寫。"
      ],
      "metadata": {
        "id": "ryzrWNvWRZqU"
      }
    },
    {
      "cell_type": "markdown",
      "source": [
        "### 讀取音訊檔"
      ],
      "metadata": {
        "id": "KPMvRiOT5uiQ"
      }
    },
    {
      "cell_type": "code",
      "source": [
        "from glob import glob #拿來列資料夾內容的小套件\n",
        "\n",
        "def find_class(x):\n",
        "    # 根據格式，找到所屬class\n",
        "    return x.strip('/')[-2]\n",
        "\n",
        "def audio_folder_dataset( dataset_path,class_dictionary, sr=22050, duration=None):\n",
        "    # 輸入: \n",
        "    ## dataset_path - 資料夾，內有數個不同class的資料夾，內有.wav檔\n",
        "    ## class_dictionary - dictionary物件，對應每個資料夾的class\n",
        "    ## sr -  讀取的sampling rate\n",
        "    ## duration - 可指定秒數(float32)，不指定則為原檔長度\n",
        "    file_names = []\n",
        "    labels = []\n",
        "    for cls, class_id in class_dictionary.items():\n",
        "        f_list=glob(dataset_path+f'{cls}/*.wav') # 找到該class的所有檔案\n",
        "        file_names.extend(f_list) # 加入列表\n",
        "        labels.extend([class_id]*len(f_list)) # 加入相應labels\n",
        "    print(\"total:\",f\"{len(file_names)} files of {len(class_dictionary)} classes\")\n",
        "    \n",
        "    # 得到所有資料夾名稱\n",
        "    path_ds = tf.data.Dataset.from_tensor_slices(file_names) # 轉換成檔名的Dataset物件\n",
        "\n",
        "    label_ds= tf.data.Dataset.from_tensor_slices(labels)\n",
        "\n",
        "    def load_wav(fname):\n",
        "        # 使用指定sampling rate, duration讀檔\n",
        "        # 會從binary格式轉成一般文字再開始做\n",
        "        return librosa.load(fname.numpy(), sr=sr, duration=duration)\n",
        "    def load_file(fname):\n",
        "        # 使用\n",
        "        return tf.py_function(func=load_wav, inp=[fname], Tout=tf.float32)\n",
        "    data_ds=path_ds.map(\n",
        "            load_file,\n",
        "            num_parallel_calls=tf.data.AUTOTUNE,\n",
        "        )\n",
        "    return tf.data.Dataset.zip((data_ds,label_ds))"
      ],
      "metadata": {
        "id": "m3KXFuxQRZD7"
      },
      "execution_count": 3,
      "outputs": []
    },
    {
      "cell_type": "markdown",
      "source": [
        "生成一個dataset拿來用作基礎。"
      ],
      "metadata": {
        "id": "DfRAtBnZ2ZIu"
      }
    },
    {
      "cell_type": "code",
      "source": [
        "# 準備一些參數輸入進function生成dataset\n",
        "DATASET_PATH='mini_speech_commands/'\n",
        "class_dict={\n",
        "    'down':0,\n",
        "    'go':1,\n",
        "    'left':2,\n",
        "    'no':3,\n",
        "    'right':4,\n",
        "    'stop':5,\n",
        "    'up':6,\n",
        "    'yes':7\n",
        "}\n",
        "SR=22050\n",
        "DURATION=0.8\n",
        "dataset=audio_folder_dataset(DATASET_PATH,\n",
        "                             class_dict,\n",
        "                             sr=SR,\n",
        "                             duration=DURATION)"
      ],
      "metadata": {
        "id": "Yow6YjV7eqcY",
        "outputId": "07616118-32fd-4233-f1e3-5cb767a40c5d",
        "colab": {
          "base_uri": "https://localhost:8080/"
        }
      },
      "execution_count": 12,
      "outputs": [
        {
          "output_type": "stream",
          "name": "stdout",
          "text": [
            "total: 8000 files of 8 classes\n"
          ]
        }
      ]
    },
    {
      "cell_type": "markdown",
      "source": [
        "觀察data基本性質，一次丟出一個signal以及一個label"
      ],
      "metadata": {
        "id": "iRVQN_8r3tZw"
      }
    },
    {
      "cell_type": "code",
      "source": [
        "for x,y in dataset:\n",
        "    print(x.shape,x.numpy().min(),x.numpy().max())\n",
        "    print(y)\n",
        "    break"
      ],
      "metadata": {
        "id": "jzc53mLj2Q4W",
        "outputId": "19255792-5ab9-41e1-b686-fd413583e4c4",
        "colab": {
          "base_uri": "https://localhost:8080/"
        }
      },
      "execution_count": 19,
      "outputs": [
        {
          "output_type": "stream",
          "name": "stdout",
          "text": [
            "(17640,) -0.556663 0.26991862\n",
            "tf.Tensor(0, shape=(), dtype=int32)\n"
          ]
        }
      ]
    },
    {
      "cell_type": "markdown",
      "source": [
        "畫出一個例子"
      ],
      "metadata": {
        "id": "SDrINt5U3xh2"
      }
    },
    {
      "cell_type": "code",
      "source": [
        "ldp.waveplot(x.numpy(),sr=SR)"
      ],
      "metadata": {
        "id": "SyN_lVhQ2qxH",
        "outputId": "a39f4af1-c205-4d1a-c7d7-304b55faaaca",
        "colab": {
          "base_uri": "https://localhost:8080/",
          "height": 299
        }
      },
      "execution_count": 20,
      "outputs": [
        {
          "output_type": "execute_result",
          "data": {
            "text/plain": [
              "<matplotlib.collections.PolyCollection at 0x7f7a48d3dbb0>"
            ]
          },
          "metadata": {},
          "execution_count": 20
        },
        {
          "output_type": "display_data",
          "data": {
            "text/plain": [
              "<Figure size 432x288 with 1 Axes>"
            ],
            "image/png": "[encoded data removed]"
          },
          "metadata": {
            "needs_background": "light"
          }
        }
      ]
    },
    {
      "cell_type": "markdown",
      "source": [
        "### 輸入NN前做轉換"
      ],
      "metadata": {
        "id": "hb0sjjxy50he"
      }
    },
    {
      "cell_type": "code",
      "source": [
        "def get_stft(waveform):\n",
        "  # 做STFT (用tensorflow得比較快)\n",
        "  spectrogram = tf.signal.stft(\n",
        "      waveform, frame_length=255, frame_step=128)\n",
        "  # Obtain the magnitude of the STFT.\n",
        "  spectrogram = tf.abs(spectrogram)\n",
        "  # 若是多加一個維度，可以用於CNN，shape (`batch_size`, `height`, `width`, `channels`).\n",
        "  # spectrogram = spectrogram[..., tf.newaxis]\n",
        "  return spectrogram"
      ],
      "metadata": {
        "id": "jLi5zn7a3NQW"
      },
      "execution_count": 23,
      "outputs": []
    },
    {
      "cell_type": "code",
      "source": [
        "dataset= dataset.map(lambda x,y: (get_stft(x), y), num_parallel_calls=tf.data.AUTOTUNE)"
      ],
      "metadata": {
        "id": "6VONZ8rq4yK_"
      },
      "execution_count": 25,
      "outputs": []
    },
    {
      "cell_type": "code",
      "source": [
        "for x,y in dataset:\n",
        "    print(x.shape,x.numpy().min(),x.numpy().max())\n",
        "    print(y)\n",
        "    break"
      ],
      "metadata": {
        "id": "0PPnzJiP5l-o",
        "outputId": "7231c831-5a4f-405d-d4a8-b9ffa53e7f71",
        "colab": {
          "base_uri": "https://localhost:8080/"
        }
      },
      "execution_count": 26,
      "outputs": [
        {
          "output_type": "stream",
          "name": "stdout",
          "text": [
            "(136, 129) 0.0 8.207278\n",
            "tf.Tensor(0, shape=(), dtype=int32)\n"
          ]
        }
      ]
    },
    {
      "cell_type": "code",
      "source": [],
      "metadata": {
        "id": "krVVzebD5q2Y"
      },
      "execution_count": null,
      "outputs": []
    }
  ]
}